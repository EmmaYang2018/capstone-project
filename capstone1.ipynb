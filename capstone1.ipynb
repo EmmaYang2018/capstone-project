{
 "cells": [
  {
   "cell_type": "markdown",
   "metadata": {},
   "source": [
    "1 business problem\n",
    "\n",
    "  in the project, we will decide New York is more like Toronto or Paris.\n",
    "\n",
    "2 data description\n",
    "  \n",
    "  use the geodata in the course of New York and the data of Toronto in the week3 project. \n",
    "  also scrape new data from website of the Paris data.\n",
    "  and then, mixed all the neighborhoods data of all 3 cities and see the resulting clustering.\n",
    "  count the number of each city's neighborhoods in the clustering and finally decide the similarity.\n",
    "\n"
   ]
  }
 ],
 "metadata": {
  "kernelspec": {
   "display_name": "Python 3",
   "language": "python",
   "name": "python3"
  },
  "language_info": {
   "codemirror_mode": {
    "name": "ipython",
    "version": 3
   },
   "file_extension": ".py",
   "mimetype": "text/x-python",
   "name": "python",
   "nbconvert_exporter": "python",
   "pygments_lexer": "ipython3",
   "version": "3.6.6"
  }
 },
 "nbformat": 4,
 "nbformat_minor": 2
}
